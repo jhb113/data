{
  "nbformat": 4,
  "nbformat_minor": 0,
  "metadata": {
    "colab": {
      "provenance": [],
      "authorship_tag": "ABX9TyPix9JEGe8BomL2aZBTrfeu",
      "include_colab_link": true
    },
    "kernelspec": {
      "name": "python3",
      "display_name": "Python 3"
    },
    "language_info": {
      "name": "python"
    }
  },
  "cells": [
    {
      "cell_type": "markdown",
      "metadata": {
        "id": "view-in-github",
        "colab_type": "text"
      },
      "source": [
        "<a href=\"https://colab.research.google.com/github/jhb113/data/blob/main/Untitled16.ipynb\" target=\"_parent\"><img src=\"https://colab.research.google.com/assets/colab-badge.svg\" alt=\"Open In Colab\"/></a>"
      ]
    },
    {
      "cell_type": "code",
      "execution_count": null,
      "metadata": {
        "id": "T-v9U49UcOvX"
      },
      "outputs": [],
      "source": [
        "class CircularDeque(CircularQueue) :\n",
        "    def __init__( self, capacity=10 ) :\n",
        "        super().__init__(capacity)\n",
        "\n",
        "    # 코드 2.4b: 원형 덱: 동작이 동일한 연산들\n",
        "    def addRear( self, item ):\n",
        "       self.enqueue(item )\n",
        "\n",
        "    def deleteFront( self ):\n",
        "       return self.dequeue()\n",
        "\n",
        "    def getFront( self ):\n",
        "       return self.peek()\n",
        "\n",
        "    # 새로 구현이 필요한 연산들\n",
        "    def addFront( self, item ):\n",
        "        if not self.isFull():\n",
        "            self.array[self.front] = item\n",
        "            self.front = (self.front - 1 + self.capacity) % self.capacity\n",
        "        else: pass\n",
        "\n",
        "    def deleteRear( self ):\n",
        "        if not self.isEmpty():\n",
        "            item = self.array[self.rear];\n",
        "            self.rear = (self.rear - 1 + self.capacity) % self.capacity\n",
        "            return item\n",
        "        else: pass\n",
        "\n",
        "    def getRear( self ):\n",
        "        if not self.isEmpty():\n",
        "            return self.array[self.rear]\n",
        "        else: pass"
      ]
    },
    {
      "cell_type": "code",
      "source": [
        "if __name__ == \"__main__\":\n",
        "    dq = CircularDeque()\n",
        "\n",
        "    for i in range(9):\n",
        "        if i%2==0 : dq.addRear(i)\n",
        "        else : dq.addFront(i)\n",
        "    print(\"홀수->전단, 짝수->후단:\", dq)\n",
        "\n",
        "    for i in range(2): dq.deleteFront()\n",
        "    for i in range(3): dq.deleteRear()\n",
        "    print(\" 전단삭제x2 후단삭제x3:\", dq)\n",
        "\n",
        "    for i in range(9,14): dq.addFront(i)\n",
        "    print(\"   전단삽입 9,10,...13:\", dq)"
      ],
      "metadata": {
        "id": "AFuuwPlqcvcQ"
      },
      "execution_count": null,
      "outputs": []
    }
  ]
}