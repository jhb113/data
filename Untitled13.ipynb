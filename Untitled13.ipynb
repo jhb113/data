{
  "nbformat": 4,
  "nbformat_minor": 0,
  "metadata": {
    "colab": {
      "provenance": [],
      "authorship_tag": "ABX9TyNYNmQPp0rPdQhoTse9sW52",
      "include_colab_link": true
    },
    "kernelspec": {
      "name": "python3",
      "display_name": "Python 3"
    },
    "language_info": {
      "name": "python"
    }
  },
  "cells": [
    {
      "cell_type": "markdown",
      "metadata": {
        "id": "view-in-github",
        "colab_type": "text"
      },
      "source": [
        "<a href=\"https://colab.research.google.com/github/jhb113/data/blob/main/Untitled13.ipynb\" target=\"_parent\"><img src=\"https://colab.research.google.com/assets/colab-badge.svg\" alt=\"Open In Colab\"/></a>"
      ]
    },
    {
      "cell_type": "code",
      "execution_count": null,
      "metadata": {
        "id": "ld1i0IcTZNcg"
      },
      "outputs": [],
      "source": [
        "def checkBrackets(statement):\n",
        "    stack = ArrayStack(100)\n",
        "    for ch in statement:\n",
        "        # if ch in ('{', '[', '('):\n",
        "        # if ch in '{[(':\n",
        "        if ch=='{' or ch=='[' or ch=='(' :  # 왼쪽 괄호를 만나면 괄호를 스택에 push\n",
        "            stack.push(ch)\n",
        "        # elif ch in ('}', ']', ')'):\n",
        "        # elif ch in '}])':\n",
        "        elif ch=='}' or ch==']' or ch==')' :  # 오른쪽 괄호를 만나면\n",
        "            if stack.isEmpty() :            # 스택이 비어 있으면 조건2 위배\n",
        "                return False\n",
        "            else :                          # 스택이 비어 있지 않으면\n",
        "                left = stack.pop()          # 스택에 저장되어 있는 왼쪽 괄호를 pop\n",
        "                if (ch == \"}\" and left != \"{\") or \\\n",
        "                   (ch == \"]\" and left != \"[\") or \\\n",
        "                   (ch == \")\" and left != \"(\") :\n",
        "                    return False    # 입력된 오른쪽 괄호와 pop한 왼쪽 괄호를 비교하여 다르면 조건3 위배\n",
        "\n",
        "    return stack.isEmpty()"
      ]
    }
  ]
}