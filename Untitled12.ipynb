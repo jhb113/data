{
  "nbformat": 4,
  "nbformat_minor": 0,
  "metadata": {
    "colab": {
      "provenance": [],
      "authorship_tag": "ABX9TyOMQlf4fJteiCGrM3oDm1Pt",
      "include_colab_link": true
    },
    "kernelspec": {
      "name": "python3",
      "display_name": "Python 3"
    },
    "language_info": {
      "name": "python"
    }
  },
  "cells": [
    {
      "cell_type": "markdown",
      "metadata": {
        "id": "view-in-github",
        "colab_type": "text"
      },
      "source": [
        "<a href=\"https://colab.research.google.com/github/jhb113/data/blob/main/Untitled12.ipynb\" target=\"_parent\"><img src=\"https://colab.research.google.com/assets/colab-badge.svg\" alt=\"Open In Colab\"/></a>"
      ]
    },
    {
      "cell_type": "code",
      "execution_count": null,
      "metadata": {
        "id": "rKGcBqwgY0Ac"
      },
      "outputs": [],
      "source": [
        "def reverse(str):\n",
        "\tst = ListStack()\t\t\t\t\t\t# List Stack 할당\n",
        "\tfor i in range(len(str)):\t\t# 입력문자열이 끝날때까지 push()를 통해 스택에 차례대로 저장\n",
        "\t\tst.push(str[i])\n",
        "\tout = \"\"\n",
        "\twhile not st.isEmpty():\t\t\t# 스택이 빌때까지 pop()을 통해 문자열을 하나씩 빼면서 출력 스트링(out)뒤에 저장\n",
        "\t\tout += st.pop()\n",
        "\treturn out\n",
        "\n",
        "def main():\n",
        "\tinput = \"Test Seq 12345\"  # 테스트 입력 문자열 String\n",
        "\tanswer = reverse(input)\n",
        "\tprint(\"Input string: \", input)\n",
        "\tprint(\"Reversed string: \", answer)\n",
        "\n",
        "if __name__ == \"__main__\":\t# reverse를 수행할때 main() 함수를 수행함을 의미\n",
        "\tmain()"
      ]
    }
  ]
}