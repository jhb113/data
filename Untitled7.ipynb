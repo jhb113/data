{
  "nbformat": 4,
  "nbformat_minor": 0,
  "metadata": {
    "colab": {
      "provenance": [],
      "authorship_tag": "ABX9TyNIVCM22elBq2FlVUd2oAZg",
      "include_colab_link": true
    },
    "kernelspec": {
      "name": "python3",
      "display_name": "Python 3"
    },
    "language_info": {
      "name": "python"
    }
  },
  "cells": [
    {
      "cell_type": "markdown",
      "metadata": {
        "id": "view-in-github",
        "colab_type": "text"
      },
      "source": [
        "<a href=\"https://colab.research.google.com/github/jhb113/data/blob/main/Untitled7.ipynb\" target=\"_parent\"><img src=\"https://colab.research.google.com/assets/colab-badge.svg\" alt=\"Open In Colab\"/></a>"
      ]
    },
    {
      "cell_type": "code",
      "execution_count": 10,
      "metadata": {
        "id": "CH4QN3bSFFf_"
      },
      "outputs": [],
      "source": [
        "##등차수열\n",
        "def seq(n):\n",
        "  if(n==1):\n",
        "    return 1\n",
        "  else:\n",
        "    return seq(n-1)+3\n",
        "a=seq(int(input()))\n",
        "print(a)"
      ]
    },
    {
      "cell_type": "code",
      "source": [
        "##피보나치 수열\n",
        "def fib(n):\n",
        "  if n==1 or n==2:\n",
        "    return 1\n",
        "  return fib(n-2) + fib(n-1)\n",
        "a= fib(int(input()))\n",
        "print(a)"
      ],
      "metadata": {
        "colab": {
          "base_uri": "https://localhost:8080/"
        },
        "id": "H-bSf0y7LEIP",
        "outputId": "52354d5b-4075-4038-b6a0-148ca94141d4"
      },
      "execution_count": 12,
      "outputs": [
        {
          "output_type": "stream",
          "name": "stdout",
          "text": [
            "10\n",
            "55\n"
          ]
        }
      ]
    },
    {
      "cell_type": "code",
      "source": [
        "##하노이탑\n",
        "def hanoi(n,a,b,c):\n",
        "  if n==1:\n",
        "    print(a,'->',b)\n",
        "    return\n",
        "  hanoi(n-1,a,c,b)\n",
        "  print(a,'->',b)\n",
        "  hanoi(n-1,c,b,a)\n",
        "print('n=3')\n",
        "hanoi(3,1,2,3)"
      ],
      "metadata": {
        "colab": {
          "base_uri": "https://localhost:8080/"
        },
        "id": "mWC-b2IULv5J",
        "outputId": "549e5744-baf0-4ae1-f2ca-785dc23d91a4"
      },
      "execution_count": 15,
      "outputs": [
        {
          "output_type": "stream",
          "name": "stdout",
          "text": [
            "n=3\n",
            "1 -> 2\n",
            "1 -> 3\n",
            "2 -> 3\n",
            "1 -> 2\n",
            "3 -> 1\n",
            "3 -> 2\n",
            "1 -> 2\n"
          ]
        }
      ]
    },
    {
      "cell_type": "code",
      "source": [
        "##선택정렬\n",
        "def sel_sort(a):\n",
        "  n=len(a)\n",
        "  b=[]\n",
        "  while n>=1:\n",
        "    x=max(a)\n",
        "    a.remove(x)\n",
        "    b=[x]+b\n",
        "    n=n-1\n",
        "  return b\n",
        "\n",
        "##비재귀 버전\n",
        "def Sel_sort_rec(a):\n",
        "  if a !=[]:\n",
        "    x= max(a)\n",
        "    a.remove(x)\n",
        "    return Sel_sort_rec(a)+[x]\n",
        "  else:\n",
        "    return[]\n",
        "\n",
        "a=[8,6,5,1,3,5,7,9,5,4,3,5]\n",
        "b=sel_sort(a)\n",
        "d=[5,6,8,4,5,6,8,4,4,2,3,5]\n",
        "c=Sel_sort_rec(d)\n",
        "print(b)\n",
        "print(c)"
      ],
      "metadata": {
        "colab": {
          "base_uri": "https://localhost:8080/"
        },
        "id": "NnVIsCMVSDa6",
        "outputId": "0868907e-550a-4df6-b794-12d1fab6947d"
      },
      "execution_count": 22,
      "outputs": [
        {
          "output_type": "stream",
          "name": "stdout",
          "text": [
            "[1, 3, 3, 4, 5, 5, 5, 5, 6, 7, 8, 9]\n",
            "[2, 3, 4, 4, 4, 5, 5, 5, 6, 6, 8, 8]\n"
          ]
        }
      ]
    },
    {
      "cell_type": "code",
      "source": [],
      "metadata": {
        "id": "YgIN1X83XzNN"
      },
      "execution_count": null,
      "outputs": []
    }
  ]
}