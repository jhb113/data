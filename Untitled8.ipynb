{
  "nbformat": 4,
  "nbformat_minor": 0,
  "metadata": {
    "colab": {
      "provenance": [],
      "authorship_tag": "ABX9TyMZWRgPF6kwzR5tA7OABk8Q",
      "include_colab_link": true
    },
    "kernelspec": {
      "name": "python3",
      "display_name": "Python 3"
    },
    "language_info": {
      "name": "python"
    }
  },
  "cells": [
    {
      "cell_type": "markdown",
      "metadata": {
        "id": "view-in-github",
        "colab_type": "text"
      },
      "source": [
        "<a href=\"https://colab.research.google.com/github/jhb113/data/blob/main/Untitled8.ipynb\" target=\"_parent\"><img src=\"https://colab.research.google.com/assets/colab-badge.svg\" alt=\"Open In Colab\"/></a>"
      ]
    },
    {
      "cell_type": "code",
      "execution_count": null,
      "metadata": {
        "id": "ii_zj7m4jFR7"
      },
      "outputs": [],
      "source": [
        "class ListNode:\n",
        "\tdef __init__(self, newitem, nextNode:'ListNode'):\n",
        "\t\tself.item = newitem\n",
        "\t\tself.next = nextNode"
      ]
    },
    {
      "cell_type": "code",
      "source": [
        "class LinkedListBasic:\n",
        "\tdef __init__(self):\n",
        "\t\tself.__head=ListNode('dummy',None)\n",
        "    self.__numitems=0\n",
        "\tdef insert(self, i:int, newItem):\n",
        "\t\tif i >= 0 and i <= self.__numItems:\n",
        "\t\t\tprev = self.__getNode(i - 1)\n",
        "\t\t\tnewNode = ListNode(newItem, prev.next)\n",
        "\t\t\tprev.next = newNode\n",
        "\t\t\tself.__numItems += 1\n",
        "\t\telse:\n",
        "\t\t\tprint(\"index\", i, \": out of bound in insert()\")\n",
        "  def append(self, newItem):\n",
        "\t\tprev = self.__getNode(self.__numItems - 1)\n",
        "\t\tnewNode = ListNode(newItem, prev.next)\n",
        "\t\tprev.next = newNode\n",
        "\t\tself.__numItems += 1\n",
        "  def pop(self, i:int):   # i번 노드 삭제. 고정 파라미터\n",
        "\t\tif (i >= 0 and i <= self.__numItems-1):\n",
        "\t\t\tprev = self.__getNode(i - 1)\n",
        "\t\t\tcurr = prev.next\n",
        "\t\t\tprev.next = curr.next\n",
        "\t\t\tretItem = curr.item\n",
        "\t\t\tself.__numItems -= 1\n",
        "\t\t\treturn retItem\n",
        "\t\telse:\n",
        "\t\t\treturn None\n",
        "  def printList(self):\n",
        "\t\tcurr = self.__head.next # 0번 노드: 더미 헤드 다음 노드\n",
        "\t\twhile curr != None:\n",
        "\t\t\tprint(curr.item, end = ' ')\n",
        "\t\t\tcurr = curr.next\n",
        "\t\tprint()"
      ],
      "metadata": {
        "id": "42Kukeskyynz"
      },
      "execution_count": null,
      "outputs": []
    }
  ]
}