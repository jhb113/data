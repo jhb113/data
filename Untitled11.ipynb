{
  "nbformat": 4,
  "nbformat_minor": 0,
  "metadata": {
    "colab": {
      "provenance": [],
      "authorship_tag": "ABX9TyPs3Jw9Ga5C+TAF+v/WUI8S",
      "include_colab_link": true
    },
    "kernelspec": {
      "name": "python3",
      "display_name": "Python 3"
    },
    "language_info": {
      "name": "python"
    }
  },
  "cells": [
    {
      "cell_type": "markdown",
      "metadata": {
        "id": "view-in-github",
        "colab_type": "text"
      },
      "source": [
        "<a href=\"https://colab.research.google.com/github/jhb113/data/blob/main/Untitled11.ipynb\" target=\"_parent\"><img src=\"https://colab.research.google.com/assets/colab-badge.svg\" alt=\"Open In Colab\"/></a>"
      ]
    },
    {
      "cell_type": "code",
      "execution_count": null,
      "metadata": {
        "id": "LDzsJYpjYTOt"
      },
      "outputs": [],
      "source": [
        "class LinkedStack:\n",
        "\tdef __init__(self):\n",
        "\t\tself.__list = LinkedListBasic()\n",
        "\n",
        "\tdef push(self, newItem):            # stack에 newItem 삽입하기\n",
        "\t\tself.__list.insert(0, newItem)    # Linked List의 첫번째 원소에 삽입\n",
        "\n",
        "\tdef pop(self):                      # stack에서 원소 삭제하기\n",
        "\t\treturn self.__list.pop(0)         # Linked List의 첫번째 원소 삭\n",
        "\n",
        "\tdef top(self):                      # stack의 top 원소 알려주기\n",
        "\t\tif self.isEmpty():\n",
        "\t\t\treturn None\n",
        "\t\telse:\n",
        "\t\t\treturn self.__list.get(0)       # Linked List의 get() 메소드 활용, 0번째 원소(첫번째 원소)\n",
        "\n",
        "\tdef isEmpty(self) -> bool:\n",
        "\t\treturn self.__list.isEmpty()      # Linked List의 isEmpty() 메소드 활용\n",
        "\n",
        "\tdef popAll(self):\n",
        "\t\tself.__list.clear()               # Linked List의 clear() 메소드 활용\n",
        "\n",
        "\tdef printStack(self):\n",
        "\t\tprint(\"Stack from top:\", end = '')\n",
        "\t\tfor i in range(self.__list.size()):\n",
        "\t\t\tprint(self.__list.get(i), end = '') # 첫번째(0번째) 원소부터 get() 메소드를 이용하여 가져와서 프린트\n",
        "\t\tprint()"
      ]
    }
  ]
}