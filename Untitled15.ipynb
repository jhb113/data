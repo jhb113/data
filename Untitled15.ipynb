{
  "nbformat": 4,
  "nbformat_minor": 0,
  "metadata": {
    "colab": {
      "provenance": [],
      "authorship_tag": "ABX9TyPHSwXmoZS0pEOlqe1XnD98",
      "include_colab_link": true
    },
    "kernelspec": {
      "name": "python3",
      "display_name": "Python 3"
    },
    "language_info": {
      "name": "python"
    }
  },
  "cells": [
    {
      "cell_type": "markdown",
      "metadata": {
        "id": "view-in-github",
        "colab_type": "text"
      },
      "source": [
        "<a href=\"https://colab.research.google.com/github/jhb113/data/blob/main/Untitled15.ipynb\" target=\"_parent\"><img src=\"https://colab.research.google.com/assets/colab-badge.svg\" alt=\"Open In Colab\"/></a>"
      ]
    },
    {
      "cell_type": "code",
      "execution_count": null,
      "metadata": {
        "id": "IjUYqMVfahdl"
      },
      "outputs": [],
      "source": [
        "def isPalindrome(A) -> bool:\n",
        "\ts = ListStack(); q = ListQueue()\n",
        "\tfor i in range(len(A)):\n",
        "\t\ts.push(A[i]); q.enqueue(A[i])\n",
        "\twhile (not q.isEmpty()) and s.pop() == q.dequeue():\n",
        "\t\t{}\n",
        "\tif q.isEmpty():\n",
        "\t\treturn True\n",
        "\telse:\n",
        "\t\treturn False\n",
        "\n",
        "def main():\n",
        "\tprint(\"Palindrome Check!\")\n",
        "\tstr = '우영우영우영우영우' # 테스트 문자열\n",
        "\tt = isPalindrome(str)\n",
        "\tprint(str, \" is Palindrome?: \", t)\n",
        "\n",
        "if __name__ == \"__main__\":\n",
        "\tmain()"
      ]
    }
  ]
}