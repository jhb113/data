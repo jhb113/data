{
  "nbformat": 4,
  "nbformat_minor": 0,
  "metadata": {
    "colab": {
      "provenance": [],
      "authorship_tag": "ABX9TyOvQ+/BlkgBMfteb9hMiHvB",
      "include_colab_link": true
    },
    "kernelspec": {
      "name": "python3",
      "display_name": "Python 3"
    },
    "language_info": {
      "name": "python"
    }
  },
  "cells": [
    {
      "cell_type": "markdown",
      "metadata": {
        "id": "view-in-github",
        "colab_type": "text"
      },
      "source": [
        "<a href=\"https://colab.research.google.com/github/jhb113/data/blob/main/Untitled14.ipynb\" target=\"_parent\"><img src=\"https://colab.research.google.com/assets/colab-badge.svg\" alt=\"Open In Colab\"/></a>"
      ]
    },
    {
      "cell_type": "code",
      "execution_count": null,
      "metadata": {
        "id": "qbSa98sCZvhj"
      },
      "outputs": [],
      "source": [
        "def isValidPos(x, y) :\t\t# (x,y)가 갈 수 있는 방인지 검사하는 함수\n",
        "    if 0 <= x < MAZE_SIZE and 0 <= y < MAZE_SIZE :\n",
        "        if map[y][x] == '0' or map[y][x] == 'x':  # 값이 0이면 갈 수 있는 곳, 값이 x면 출구\n",
        "            return True\n",
        "    return False  # 값이 1이면 갈 수 없는 곳"
      ]
    },
    {
      "cell_type": "code",
      "source": [
        "def DFS() :\t\t\t# 깊이우선탐색 함수\n",
        "    print('DFS: ')\n",
        "    stack = ArrayStack(100)\t# 사용할 덱 객체를 준비\n",
        "    stack.push((0,1))\t\t# 후단(top)에 시작위치 삽입. (0,1)은 튜플\n",
        "\n",
        "    while not stack.isEmpty(): \t# 공백이 아닐 동안\n",
        "        here = stack.pop()      # 스택 탑에서 항목을 꺼냄(pop)\n",
        "        print(here, end='->')\n",
        "        (x,y) = here\n",
        "\n",
        "        if (map[y][x] == 'x') :\t# 출구이면 성공. True 반환\n",
        "            return True\n",
        "        else :\n",
        "            map[y][x] = '.'\t# 현재위치를 지나왔다고 ’.’표시\n",
        "            # 상/우/하/좌 순서로 갈 수 있는 길이면 스택에 push\n",
        "            if isValidPos(x, y - 1): stack.push((x, y - 1)) # 상\n",
        "            if isValidPos(x + 1, y): stack.push((x + 1, y)) # 우\n",
        "            if isValidPos(x, y + 1): stack.push((x, y + 1)) # 하\n",
        "            if isValidPos(x - 1, y): stack.push((x - 1, y)) # 좌\n",
        "        print(' 현재 스택: ', stack)  # 스택내의 모든 원소들을 프린\n",
        "    return False  # 탐색 실패\n",
        "\n",
        "result = DFS()  # DFS() 수행\n",
        "if result : print(' --> 미로탐색 성공')\n",
        "else : print(' --> 미로탐색 실패')"
      ],
      "metadata": {
        "id": "9IASu3_gZxiA"
      },
      "execution_count": null,
      "outputs": []
    }
  ]
}