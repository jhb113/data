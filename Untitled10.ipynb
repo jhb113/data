{
  "nbformat": 4,
  "nbformat_minor": 0,
  "metadata": {
    "colab": {
      "provenance": [],
      "authorship_tag": "ABX9TyM1WFVG40qmF4g7mh2/HUua",
      "include_colab_link": true
    },
    "kernelspec": {
      "name": "python3",
      "display_name": "Python 3"
    },
    "language_info": {
      "name": "python"
    }
  },
  "cells": [
    {
      "cell_type": "markdown",
      "metadata": {
        "id": "view-in-github",
        "colab_type": "text"
      },
      "source": [
        "<a href=\"https://colab.research.google.com/github/jhb113/data/blob/main/Untitled10.ipynb\" target=\"_parent\"><img src=\"https://colab.research.google.com/assets/colab-badge.svg\" alt=\"Open In Colab\"/></a>"
      ]
    },
    {
      "cell_type": "code",
      "execution_count": null,
      "metadata": {
        "id": "a9MEA1RvXDnF"
      },
      "outputs": [],
      "source": [
        "class BidirectNode:\n",
        "    def __init__(self, x, prevNode:'BidirectNode', nextNode:'BidirectNode'):\n",
        "        self.item = x\n",
        "        self.prev = prevNode\n",
        "        self.next = nextNode"
      ]
    },
    {
      "cell_type": "code",
      "source": [
        "class CircularDoublyLinkedList:\n",
        "\tdef __init__(self):\n",
        "\t\tself.__head = BidirectNode(\"dummy\", None, None)\n",
        "\t\tself.__head.prev = self.__head\n",
        "\t\tself.__head.next = self.__head\n",
        "\t\tself.__numItems = 0\n",
        "\n",
        "\tdef insert(self, i:int, newItem) -> None:\n",
        "\t\tif (i >= 0 and i <= self.__numItems):\n",
        "\t\t\tprev = self.getNode(i - 1)\n",
        "\t\t\tnewNode = BidirectNode(newItem, prev, prev.next)\n",
        "\t\t\tnewNode.next.prev = newNode\n",
        "\t\t\tprev.next = newNode\n",
        "\t\t\tself.__numItems += 1\n",
        "\t\telse:\n",
        "\t\t\tprint(\"index\", i, \": out of bound in insert()\") # 필요 시 에러 처리\n",
        "\n",
        "\tdef append(self, newItem) -> None:\n",
        "\t\tprev = self.__head.prev\n",
        "\t\tnewNode = BidirectNode(newItem, prev, self.__head)\n",
        "\t\tprev.next = newNode\n",
        "\t\tself.__head.prev = newNode\n",
        "\t\tself.__numItems += 1\n",
        "\n",
        "\tdef pop(self, *args):\n",
        "\t\t# 가변 파라미터. 인자가 없거나 -1이면 마지막 원소로 처리하기 위함. 파이썬 리스트 규칙 만족\n",
        "\t\tif self.isEmpty():\n",
        "\t\t\treturn None\n",
        "\t\t# 인덱스 i 결정\n",
        "\t\tif len(args) != 0: # pop(k)과 같이 인자가 있으면 i = k 할당\n",
        "\t\t\ti = args[0]\n",
        "\t\tif len(args) == 0 or i == -1:# pop()에 인자가 없거나 pop(-1)이면 i에 맨 끝 인덱스 할당\n",
        "\t\t\ti = self.__numItems - 1\n",
        "\t\t# i번 원소 삭제\n",
        "\t\tif (i >= 0 and i <= self.__numItems - 1):\n",
        "\t\t\tcurr = self.getNode(i)\n",
        "\t\t\tretItem = curr.item\n",
        "\t\t\tcurr.prev.next = curr.next\n",
        "\t\t\tcurr.next.prev = curr.prev\n",
        "\t\t\tself.__numItems -= 1\n",
        "\t\t\treturn retItem\n",
        "\t\telse:\n",
        "\t\t\treturn None\n",
        "\n",
        "  def reverse(self) -> None:\n",
        "\t\tprev = self.__head; curr = prev.next; next = curr.next\n",
        "\t\tself.__head.next = prev.prev; self.__head.prev = curr\n",
        "\t\tfor i in range(self.__numItems):\n",
        "\t\t\tcurr.next = prev; curr.prev = next\n",
        "\t\t\tprev = curr; curr = next; next = next.next\n",
        "\n",
        "\t# 레퍼런스 변경을 통한 reverse logic\n",
        "\tdef reverseSwapRef(self):\n",
        "\t\tcurr = self.__head; next = self.__head.next  # 임시 레퍼런스\n",
        "\t\tfor i in range(self.__numItems+1):               # +1 은 더비헤드의 레퍼런스 변경을 위함\n",
        "\t\t\tcurr.prev, curr.next = curr.next, curr.prev  # 노드의 prev와 next 변경\n",
        "\t\t\tcurr = next; next = next.next   # 임시 레퍼런스 이동\n",
        "\n",
        "  def printList(self) -> None:\n",
        "\t\tfor element in self:\n",
        "\t\t\tprint(element, end = ' ')\n",
        "\t\tprint()\n",
        "\n",
        "\tdef printInterval(self, i, j) -> None:\n",
        "\t\tindex = 0;\n",
        "\t\tfor element in self:\n",
        "\t\t\tif (i <= index and index <=j):\n",
        "\t\t\t\tprint(element, end = ' ')\n",
        "\t\t\tif (j == index):\n",
        "\t\t\t\tbreak\n",
        "\t\t\tindex += 1\n",
        "\t\tprint()\n",
        "\n",
        "\tdef __iter__(self): # generating iteerator and return\n",
        "        \treturn CircularDoublyLinkedListIterator(self)\n",
        "\n",
        "class CircularDoublyLinkedListIterator:\n",
        "\tdef __init__(self, alist):\n",
        "\t\tself.__head = alist.getNode(-1)  \t\t# 더미 헤드\n",
        "\t\tself.iterPosition = self.__head.next  \t# 0번 노드\n",
        "\tdef __next__(self):\n",
        "\t\tif self.iterPosition == self.__head: \t# 순환 끝\n",
        "\t\t\traise StopIteration\n",
        "\t\telse: # 현재 원소를 리턴하면서 다음 원소로 이동\n",
        "\t\t\titem = self.iterPosition.item\n",
        "\t\t\tself.iterPosition = self.iterPosition.next\n",
        "\t\t\treturn item"
      ],
      "metadata": {
        "id": "h9wAcDUWXINL"
      },
      "execution_count": null,
      "outputs": []
    }
  ]
}