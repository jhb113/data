{
  "nbformat": 4,
  "nbformat_minor": 0,
  "metadata": {
    "colab": {
      "provenance": [],
      "authorship_tag": "ABX9TyOlJc5u3YNmMKuV6S93SRZj",
      "include_colab_link": true
    },
    "kernelspec": {
      "name": "python3",
      "display_name": "Python 3"
    },
    "language_info": {
      "name": "python"
    }
  },
  "cells": [
    {
      "cell_type": "markdown",
      "metadata": {
        "id": "view-in-github",
        "colab_type": "text"
      },
      "source": [
        "<a href=\"https://colab.research.google.com/github/jhb113/data/blob/main/Untitled17.ipynb\" target=\"_parent\"><img src=\"https://colab.research.google.com/assets/colab-badge.svg\" alt=\"Open In Colab\"/></a>"
      ]
    },
    {
      "cell_type": "code",
      "execution_count": null,
      "metadata": {
        "id": "R2mwLaMMc9bo"
      },
      "outputs": [],
      "source": [
        "class PriorityQueue :\n",
        "    def __init__( self, capacity = 10 ) :\n",
        "        self.capacity = capacity        # 용량(고정)\n",
        "        self.array = [None] * capacity  # 요소들을 저장할 배열\n",
        "        self.size = 0                   # 후단의 인덱스\n",
        "\n",
        "    def isEmpty( self ) :\n",
        "       return self.size == 0\n",
        "\n",
        "    def isFull( self ) :\n",
        "       return self.size == self.capacity\n",
        "\n",
        "    def enqueue( self, e ):\n",
        "        if not self.isFull():\n",
        "            self.array[self.size] = e\n",
        "            self.size += 1\n",
        "\n",
        "    def findMaxIndex( self ):\n",
        "        if self.isEmpty(): return -1\n",
        "        highest = 0\n",
        "        for i in range(1, self.size) :\n",
        "            if self.array[i] > self.array[highest] :\n",
        "                highest = i\n",
        "        return highest\n",
        "\n",
        "    def dequeue( self ):\n",
        "        highest = self.findMaxIndex()\n",
        "        if highest != -1 :\n",
        "            self.size -= 1\n",
        "            self.array[highest], self.array[self.size] = \\\n",
        "                self.array[self.size], self.array[highest]\n",
        "            return self.array[self.size]\n",
        "\n",
        "    def peek( self ):\n",
        "        highest = self.findMaxIndex()\n",
        "        if highest != -1 :\n",
        "            return self.array[height]\n",
        "\n",
        "    def __str__(self):\n",
        "        return str(self.array[0:self.size])"
      ]
    }
  ]
}