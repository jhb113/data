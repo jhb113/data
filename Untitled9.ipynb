{
  "nbformat": 4,
  "nbformat_minor": 0,
  "metadata": {
    "colab": {
      "provenance": [],
      "authorship_tag": "ABX9TyNMn9lZAH2W9ElMS84mjpoe",
      "include_colab_link": true
    },
    "kernelspec": {
      "name": "python3",
      "display_name": "Python 3"
    },
    "language_info": {
      "name": "python"
    }
  },
  "cells": [
    {
      "cell_type": "markdown",
      "metadata": {
        "id": "view-in-github",
        "colab_type": "text"
      },
      "source": [
        "<a href=\"https://colab.research.google.com/github/jhb113/data/blob/main/Untitled9.ipynb\" target=\"_parent\"><img src=\"https://colab.research.google.com/assets/colab-badge.svg\" alt=\"Open In Colab\"/></a>"
      ]
    },
    {
      "cell_type": "code",
      "execution_count": null,
      "metadata": {
        "id": "BEwZkR-SBK7E"
      },
      "outputs": [],
      "source": [
        "class CircularLinkedList :\n",
        "\tdef __init__(self) :\n",
        "\t\tself.__tail = ListNode(\"dummy\", None)\n",
        "\t\tself.__tail.next = self.__tail\n",
        "\t\tself.__numItems = 0\n",
        "\n",
        "\tdef insert(self, i:int, newItem) -> None:\n",
        "\t\tif (i >= 0 and i <= self.__numItems):\n",
        "\t\t\tprev = self.getNode(i - 1)\n",
        "\t\t\tnewNode = ListNode(newItem, prev.next)\n",
        "\t\t\tprev.next = newNode\n",
        "\t\t\tif i == self.__numItems:\n",
        "\t\t\t\tself.__tail = newNode\n",
        "\t\t\tself.__numItems += 1\n",
        "\t\telse:\n",
        "\t\t\tprint(\"index\", i, \": out of bound in insert()\") # 필요 시 에러 처리\n",
        "\n",
        "\tdef append(self, newItem) -> None:\n",
        "\t\tnewNode = ListNode(newItem, self.__tail.next)\n",
        "\t\tself.__tail.next = newNode\n",
        "\t\tself.__tail = newNode\n",
        "\t\tself.__numItems += 1\n",
        "\n",
        "\tdef pop(self, *args):\n",
        "\t\tif self.isEmpty():\n",
        "\t\t\treturn None\n",
        "\t\tif len(args) != 0: # pop(k)과 같이 인자가 있으면 i = k 할당\n",
        "\t\t\ti = args[0]\n",
        "\t\tif len(args) == 0 or i == -1:# pop()에 인자가 없거나 pop(-1)이면 i에 맨 끝 인덱스 할당\n",
        "\t\t\ti = self.__numItems - 1\n",
        "\t\tif (i >= 0 and i <= self.__numItems - 1):\n",
        "\t\t\tprev = self.getNode(i - 1)\n",
        "\t\t\tretItem = prev.next.item\n",
        "\t\t\tprev.next = prev.next.next\n",
        "\t\t\tif i == self.__numItems - 1:\n",
        "\t\t\t\tself.__tail = prev\n",
        "\t\t\tself.__numItems -= 1\n",
        "\t\t\treturn retItem\n",
        "\t\telse:\n",
        "\t\t\treturn None\n",
        "  def reverse(self) -> None:\n",
        "\t\t__head = self.__tail.next  # 더미 헤드\n",
        "\t\tprev = __head; curr = prev.next; next = curr.next\n",
        "\t\t#curr = __head; curr = curr.next; next = curr.next.next\n",
        "\t\tcurr.next = __head; __head.next = self.__tail; self.__tail = curr\n",
        "\t\tfor i in range(self.__numItems - 1):\n",
        "\t\t\tprev = curr; curr = next; next = next.next\n",
        "\t\t\tcurr.next = prev\n",
        "\n",
        "  def printList(self) -> None:\n",
        "\t\tfor element in self:\n",
        "\t\t\tprint(element, end = ' ')\n",
        "\t\tprint()\n",
        "\n",
        "\tdef printInterval(self, i,j) :\n",
        "\t\tcurr = self.getNode(i)\n",
        "\t\tfor _ in range(j-i+1) :\n",
        "\t\t\tprint(curr.item)\n",
        "\t\t\tcurr = curr.next\n",
        "\n",
        "\n",
        "  def __iter__(self):  # generating iterator and return\n",
        "\t\treturn CircularLinkedListIterator(self)\n",
        "\n",
        "class CircularLinkedListIterator:\n",
        "\tdef __init__(self, alist):\n",
        "\t\tself.__head = alist.getNode(-1)  # 더미 헤드\n",
        "\t\tself.iterPosition = self.__head.next  # 0번 노드\n",
        "\tdef __next__(self):\n",
        "\t\tif self.iterPosition == self.__head: # 순환 끝\n",
        "\t\t\traise StopIteration\n",
        "\t\telse: # 현재 원소를 리턴하면서 다음 원소로 이동\n",
        "\t\t\titem = self.iterPosition.item\n",
        "\t\t\tself.iterPosition = self.iterPosition.next\n",
        "\n",
        "\t\t\treturn item"
      ]
    }
  ]
}